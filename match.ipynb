{
 "cells": [
  {
   "cell_type": "code",
   "execution_count": 6,
   "metadata": {},
   "outputs": [
    {
     "name": "stdout",
     "output_type": "stream",
     "text": [
      "No Case was Matching\n"
     ]
    }
   ],
   "source": [
    "a=int(input())\n",
    "match a:\n",
    "    case 10:\n",
    "        print(\"hello\")\n",
    "    case 20:\n",
    "        print(\"Bye\")\n",
    "    case 30:\n",
    "        print(\"Good Bye\")\n",
    "    case 40:\n",
    "        print(\"Bye bYe\")\n",
    "    case _:\n",
    "        print(\"No Case was Matching\")"
   ]
  },
  {
   "cell_type": "code",
   "execution_count": 20,
   "metadata": {},
   "outputs": [
    {
     "name": "stdout",
     "output_type": "stream",
     "text": [
      "1\n"
     ]
    }
   ],
   "source": [
    "a=[1,2,3]\n",
    "b=int(input())\n",
    "match b:\n",
    "    case 10:\n",
    "        if b>5:\n",
    "            print(0)\n",
    "    case 12:\n",
    "        print(\"Hero\")\n",
    "    case x:\n",
    "        print(1)\n",
    "    "
   ]
  },
  {
   "cell_type": "markdown",
   "metadata": {},
   "source": []
  }
 ],
 "metadata": {
  "kernelspec": {
   "display_name": "Python 3",
   "language": "python",
   "name": "python3"
  },
  "language_info": {
   "codemirror_mode": {
    "name": "ipython",
    "version": 3
   },
   "file_extension": ".py",
   "mimetype": "text/x-python",
   "name": "python",
   "nbconvert_exporter": "python",
   "pygments_lexer": "ipython3",
   "version": "3.12.2"
  }
 },
 "nbformat": 4,
 "nbformat_minor": 2
}
