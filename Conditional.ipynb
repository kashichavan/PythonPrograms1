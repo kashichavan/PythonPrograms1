{
 "cells": [
  {
   "cell_type": "code",
   "execution_count": 2,
   "metadata": {},
   "outputs": [
    {
     "name": "stdout",
     "output_type": "stream",
     "text": [
      "Program ennd\n"
     ]
    }
   ],
   "source": [
    "value=9\n",
    "if value>10:\n",
    "    print(\"Hello\")\n",
    "    print(\"Hii\")\n",
    "    print(\"Bye\")\n",
    "    print(\"Tata Khatam\")\n",
    "    print(\"Good Bye\")\n",
    "print(\"Program ennd\")"
   ]
  },
  {
   "cell_type": "code",
   "execution_count": 4,
   "metadata": {},
   "outputs": [
    {
     "name": "stdout",
     "output_type": "stream",
     "text": [
      "Program ends\n"
     ]
    }
   ],
   "source": [
    "num=11\n",
    "if num%3==0:\n",
    "    print(\"Divisible\")\n",
    "    print(num)\n",
    "print(\"Program ends\")"
   ]
  },
  {
   "cell_type": "code",
   "execution_count": 6,
   "metadata": {},
   "outputs": [
    {
     "name": "stdout",
     "output_type": "stream",
     "text": [
      "Present between 10 and 50\n",
      "30\n",
      "Program ends\n"
     ]
    }
   ],
   "source": [
    "num=20\n",
    "if (num>=10 and num<=50):\n",
    "    print(\"Present between 10 and 50\")\n",
    "    print(50-num)\n",
    "print(\"Program ends\")"
   ]
  },
  {
   "cell_type": "code",
   "execution_count": 7,
   "metadata": {},
   "outputs": [
    {
     "name": "stdout",
     "output_type": "stream",
     "text": [
      "Divisible by both\n",
      "12 10\n",
      "Prgram ends\n"
     ]
    }
   ],
   "source": [
    "num=15\n",
    "if num%3==0 and num%5==0:\n",
    "    print(\"Divisible by both\")\n",
    "    print(num-3,num-5)\n",
    "print(\"Prgram ends\")"
   ]
  },
  {
   "cell_type": "code",
   "execution_count": 8,
   "metadata": {},
   "outputs": [
    {
     "name": "stdout",
     "output_type": "stream",
     "text": [
      "25\n",
      "Program end\n"
     ]
    }
   ],
   "source": [
    "num=5\n",
    "if 20%num==0:\n",
    "    print(num**2)\n",
    "print(\"Program end\")"
   ]
  },
  {
   "cell_type": "code",
   "execution_count": 9,
   "metadata": {},
   "outputs": [
    {
     "name": "stdout",
     "output_type": "stream",
     "text": [
      "125\n",
      "Program end\n"
     ]
    }
   ],
   "source": [
    "num=5\n",
    "if 20%num==0 and 25%num==0:\n",
    "    print(num**3)\n",
    "print(\"Program end\")"
   ]
  },
  {
   "cell_type": "code",
   "execution_count": 11,
   "metadata": {},
   "outputs": [
    {
     "name": "stdout",
     "output_type": "stream",
     "text": [
      "66\n",
      "Program end\n"
     ]
    }
   ],
   "source": [
    "ch='B'\n",
    "if ch>='A' and ch<='Z':\n",
    "    print(ord(ch))\n",
    "print(\"Program end\")"
   ]
  },
  {
   "cell_type": "code",
   "execution_count": 13,
   "metadata": {},
   "outputs": [
    {
     "name": "stdout",
     "output_type": "stream",
     "text": [
      "d 100\n",
      "programm ends\n"
     ]
    }
   ],
   "source": [
    "ch='d'\n",
    "asc=ord(ch)\n",
    "if (ch>='a' and ch<'z') and asc%2==0:\n",
    "    print(ch,asc)\n",
    "print(\"programm ends\")"
   ]
  }
 ],
 "metadata": {
  "kernelspec": {
   "display_name": "Python 3",
   "language": "python",
   "name": "python3"
  },
  "language_info": {
   "codemirror_mode": {
    "name": "ipython",
    "version": 3
   },
   "file_extension": ".py",
   "mimetype": "text/x-python",
   "name": "python",
   "nbconvert_exporter": "python",
   "pygments_lexer": "ipython3",
   "version": "3.12.2"
  }
 },
 "nbformat": 4,
 "nbformat_minor": 2
}
