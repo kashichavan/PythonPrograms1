{
 "cells": [
  {
   "cell_type": "code",
   "execution_count": 7,
   "metadata": {},
   "outputs": [
    {
     "name": "stdout",
     "output_type": "stream",
     "text": [
      "hello\n",
      "200\n",
      "hello\n",
      "200\n"
     ]
    }
   ],
   "source": [
    "def func():\n",
    "    print(\"hello\")\n",
    "    return 200\n",
    "a=func()\n",
    "print(a)\n",
    "print(func())"
   ]
  },
  {
   "cell_type": "code",
   "execution_count": 8,
   "metadata": {},
   "outputs": [
    {
     "name": "stdout",
     "output_type": "stream",
     "text": [
      "30\n",
      "300\n"
     ]
    }
   ],
   "source": [
    "def sum(num1,num2):\n",
    "    return num1+num2\n",
    "s=sum(10,20)\n",
    "print(s)\n",
    "print(sum(100,200))"
   ]
  },
  {
   "cell_type": "code",
   "execution_count": 10,
   "metadata": {},
   "outputs": [
    {
     "name": "stdout",
     "output_type": "stream",
     "text": [
      "4\n",
      "16\n",
      "36\n",
      "100\n",
      "400\n",
      "900\n"
     ]
    }
   ],
   "source": [
    "def square(num):\n",
    "    return num*num\n",
    "print(square(2))\n",
    "print(square(4))\n",
    "print(square(6))\n",
    "\n",
    "\n",
    "s=square(10)\n",
    "s1=square(20)\n",
    "s2=square(30)\n",
    "print(s)\n",
    "print(s1)\n",
    "print(s2)"
   ]
  },
  {
   "cell_type": "code",
   "execution_count": 4,
   "metadata": {},
   "outputs": [
    {
     "name": "stdout",
     "output_type": "stream",
     "text": [
      "23\n",
      "29\n",
      "31\n",
      "37\n"
     ]
    }
   ],
   "source": [
    "def  isPrime(num):\n",
    "    c=0\n",
    "    i=1\n",
    "    while i<=num:\n",
    "        if(num%i==0):\n",
    "            c+=1\n",
    "        i+=1\n",
    "    return c==2\n",
    "num=11\n",
    "isPrime(num)"
   ]
  },
  {
   "cell_type": "code",
   "execution_count": 6,
   "metadata": {},
   "outputs": [
    {
     "name": "stdout",
     "output_type": "stream",
     "text": [
      "720\n"
     ]
    }
   ],
   "source": [
    "def factorial(num):\n",
    "    fact=1\n",
    "    i=1\n",
    "    while(i<=num):\n",
    "        fact*=i\n",
    "        i+=1\n",
    "    return fact\n",
    "print(factorial(6))"
   ]
  },
  {
   "cell_type": "code",
   "execution_count": 2,
   "metadata": {},
   "outputs": [
    {
     "name": "stdout",
     "output_type": "stream",
     "text": [
      "True\n",
      "1\n",
      "2\n",
      "3\n",
      "4\n",
      "5\n",
      "6\n",
      "7\n",
      "8\n",
      "9\n",
      "153\n"
     ]
    }
   ],
   "source": [
    "def countDigit(num):\n",
    "    c=0\n",
    "    while(num!=0):\n",
    "        c+=1\n",
    "        num//=10\n",
    "    return c\n",
    "def armStrong(num):\n",
    "    temp=num\n",
    "    totalcount=countDigit(num)\n",
    "    sum=0\n",
    "    while(temp!=0):\n",
    "        digit=temp%10\n",
    "        sum+=digit**totalcount\n",
    "        temp//=10\n",
    "    return sum==num\n",
    "\n",
    "n=153\n",
    "print(armStrong(n))\n",
    "\n",
    "i=1\n",
    "j=200\n",
    "while i<=j:\n",
    "    if armStrong(i):\n",
    "        print(i)\n",
    "    i+=1"
   ]
  },
  {
   "cell_type": "code",
   "execution_count": 3,
   "metadata": {},
   "outputs": [
    {
     "name": "stdout",
     "output_type": "stream",
     "text": [
      "2\n",
      "3\n",
      "5\n",
      "7\n",
      "11\n",
      "13\n",
      "17\n",
      "19\n",
      "23\n",
      "29\n",
      "129\n"
     ]
    }
   ],
   "source": [
    "def isPrime(num):\n",
    "    c=0\n",
    "    i=1\n",
    "    while i<=num:\n",
    "        if num%i==0:\n",
    "            c+=1\n",
    "        i+=1\n",
    "    return c==2\n",
    "\n",
    "j=1\n",
    "c=0\n",
    "sum=0\n",
    "while c<10:\n",
    "    if isPrime(j):\n",
    "        sum+=j\n",
    "        print(j)\n",
    "        c+=1\n",
    "    j+=1\n",
    "print(sum)"
   ]
  }
 ],
 "metadata": {
  "kernelspec": {
   "display_name": "Python 3",
   "language": "python",
   "name": "python3"
  },
  "language_info": {
   "codemirror_mode": {
    "name": "ipython",
    "version": 3
   },
   "file_extension": ".py",
   "mimetype": "text/x-python",
   "name": "python",
   "nbconvert_exporter": "python",
   "pygments_lexer": "ipython3",
   "version": "3.12.2"
  }
 },
 "nbformat": 4,
 "nbformat_minor": 2
}
