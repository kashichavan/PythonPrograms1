{
 "cells": [
  {
   "cell_type": "code",
   "execution_count": 4,
   "metadata": {},
   "outputs": [
    {
     "name": "stdout",
     "output_type": "stream",
     "text": [
      "A\n",
      "B\n",
      "c\n",
      "X\n",
      "y\n",
      "z\n",
      "1\n",
      "2\n",
      "3\n"
     ]
    }
   ],
   "source": [
    "st=\"ABcXyz123\"\n",
    "for c in st:\n",
    "    print(c)\n"
   ]
  },
  {
   "cell_type": "code",
   "execution_count": null,
   "metadata": {},
   "outputs": [],
   "source": []
  },
  {
   "cell_type": "code",
   "execution_count": null,
   "metadata": {},
   "outputs": [],
   "source": []
  },
  {
   "cell_type": "code",
   "execution_count": 5,
   "metadata": {},
   "outputs": [
    {
     "name": "stdout",
     "output_type": "stream",
     "text": [
      "1\n",
      "2\n",
      "3\n",
      "467\n",
      "4\n"
     ]
    }
   ],
   "source": [
    "list=[1,2,3,467,4]\n",
    "for ele in list:\n",
    "    print(ele)"
   ]
  },
  {
   "cell_type": "code",
   "execution_count": 6,
   "metadata": {},
   "outputs": [
    {
     "name": "stdout",
     "output_type": "stream",
     "text": [
      "100\n",
      "600\n",
      "30\n",
      "450\n"
     ]
    }
   ],
   "source": [
    "t=(100,600,30,450)\n",
    "for i in t:\n",
    "    print(i)"
   ]
  },
  {
   "cell_type": "code",
   "execution_count": 7,
   "metadata": {},
   "outputs": [
    {
     "name": "stdout",
     "output_type": "stream",
     "text": [
      "1\n",
      "2\n",
      "3\n",
      "5\n",
      "6\n",
      "8\n",
      "44\n",
      "556\n",
      "88\n"
     ]
    }
   ],
   "source": [
    "set={1,2,1,3,44,5,556,6,88,8}\n",
    "for i in set:\n",
    "    print(i)\n"
   ]
  },
  {
   "cell_type": "code",
   "execution_count": 9,
   "metadata": {},
   "outputs": [
    {
     "name": "stdout",
     "output_type": "stream",
     "text": [
      "name sujith\n",
      "age 22\n",
      "phone 9123123123\n"
     ]
    }
   ],
   "source": [
    "d={\"name\":\"sujith\",\"age\":22,\"phone\":9123123123}\n",
    "for i in d:\n",
    "    print(i,d[i])"
   ]
  },
  {
   "cell_type": "markdown",
   "metadata": {},
   "source": [
    "String Programming:\n",
    "--------------------\n",
    "\n",
    "The process of retrieving each character from a string and performing a task with resepect to it is Known as String Programming.\n",
    "\n",
    "Task -->\n",
    "------------\n",
    " printing\n",
    " relation w r to char\n",
    " comparision w r to char\n",
    " logical opertion \n",
    " concatination\n"
   ]
  },
  {
   "cell_type": "code",
   "execution_count": 10,
   "metadata": {},
   "outputs": [
    {
     "name": "stdout",
     "output_type": "stream",
     "text": [
      "r\n",
      "o\n"
     ]
    }
   ],
   "source": [
    "st=input()\n",
    "char='j'\n",
    "for i in st:\n",
    "    if i>char:\n",
    "        print(i)"
   ]
  },
  {
   "cell_type": "code",
   "execution_count": 13,
   "metadata": {},
   "outputs": [
    {
     "name": "stdout",
     "output_type": "stream",
     "text": [
      "r\n",
      "j\n"
     ]
    }
   ],
   "source": [
    "st=input()\n",
    "for i in st:\n",
    "    if ord(i)>71:\n",
    "        print(i)"
   ]
  },
  {
   "cell_type": "code",
   "execution_count": 14,
   "metadata": {},
   "outputs": [
    {
     "name": "stdout",
     "output_type": "stream",
     "text": [
      "J\n",
      "K\n",
      "A\n",
      "A\n",
      "A\n"
     ]
    }
   ],
   "source": [
    "st=input()\n",
    "for i in st:\n",
    "    if i>='A' and i<='Z':\n",
    "        print(i)"
   ]
  },
  {
   "cell_type": "code",
   "execution_count": 15,
   "metadata": {},
   "outputs": [
    {
     "name": "stdout",
     "output_type": "stream",
     "text": [
      "A\n"
     ]
    }
   ],
   "source": [
    "st=input()\n",
    "for i in st:\n",
    "    if i in \"aeiouAEIOU\":\n",
    "        print(i)"
   ]
  },
  {
   "cell_type": "code",
   "execution_count": 17,
   "metadata": {},
   "outputs": [
    {
     "name": "stdout",
     "output_type": "stream",
     "text": [
      "@\n",
      ".\n"
     ]
    }
   ],
   "source": [
    "st=input()\n",
    "for i in st:\n",
    "    if  (not ((i>='a' and i <='z') or (i>='A' and i<='Z') or (i>='0' and i<='9'))):\n",
    "        print(i)"
   ]
  },
  {
   "cell_type": "code",
   "execution_count": 18,
   "metadata": {},
   "outputs": [
    {
     "name": "stdout",
     "output_type": "stream",
     "text": [
      "J\n",
      "C\n",
      "K\n"
     ]
    }
   ],
   "source": [
    "st=input()\n",
    "for i in st:\n",
    "    if (i>='A' and i<'Z') and  i not in \"AEIOU\":\n",
    "        print(i)"
   ]
  },
  {
   "cell_type": "code",
   "execution_count": 20,
   "metadata": {},
   "outputs": [
    {
     "name": "stdout",
     "output_type": "stream",
     "text": [
      "12\n"
     ]
    }
   ],
   "source": [
    "st=input()\n",
    "count=0\n",
    "for i in st:\n",
    "    count+=1\n",
    "print(count)"
   ]
  },
  {
   "cell_type": "code",
   "execution_count": 21,
   "metadata": {},
   "outputs": [
    {
     "name": "stdout",
     "output_type": "stream",
     "text": [
      "2\n"
     ]
    }
   ],
   "source": [
    "st=input()\n",
    "count=0\n",
    "for i in st:\n",
    "    if i in 'aA':\n",
    "        count+=1\n",
    "\n",
    "print(count)"
   ]
  },
  {
   "cell_type": "code",
   "execution_count": 22,
   "metadata": {},
   "outputs": [
    {
     "name": "stdout",
     "output_type": "stream",
     "text": [
      "3\n"
     ]
    }
   ],
   "source": [
    "st=input()\n",
    "count=0\n",
    "for i in st:\n",
    "    if i==' ':\n",
    "        count+=1\n",
    "print(count)"
   ]
  },
  {
   "cell_type": "code",
   "execution_count": 23,
   "metadata": {},
   "outputs": [
    {
     "name": "stdout",
     "output_type": "stream",
     "text": [
      "5\n"
     ]
    }
   ],
   "source": [
    "st=input()\n",
    "count=0\n",
    "for i in st:\n",
    "    if ((i>='A' and i<='Z') or (i>='a' and i<='z')):\n",
    "        count+=1\n",
    "print(count)"
   ]
  },
  {
   "cell_type": "code",
   "execution_count": 25,
   "metadata": {},
   "outputs": [
    {
     "name": "stdout",
     "output_type": "stream",
     "text": [
      "3\n"
     ]
    }
   ],
   "source": [
    "st=input()\n",
    "count=0\n",
    "for i in st:\n",
    "    if (i>='a' and i<='z') and i not in 'aeiou':\n",
    "        count+=1\n",
    "print(count)"
   ]
  },
  {
   "cell_type": "code",
   "execution_count": 26,
   "metadata": {},
   "outputs": [
    {
     "name": "stdout",
     "output_type": "stream",
     "text": [
      "Total number of UpperCase  5\n",
      "Total Number of LowerCase 4\n"
     ]
    }
   ],
   "source": [
    "st=input()\n",
    "countUpper=0\n",
    "countLower=0\n",
    "for i in st:\n",
    "    if i>='A' and i<='Z':\n",
    "        countUpper+=1\n",
    "    elif i>='a' and i<='z':\n",
    "        countLower+=1\n",
    "print(\"Total number of UpperCase \",countUpper)\n",
    "print(\"Total Number of LowerCase\",countLower)"
   ]
  },
  {
   "cell_type": "code",
   "execution_count": 27,
   "metadata": {},
   "outputs": [
    {
     "name": "stdout",
     "output_type": "stream",
     "text": [
      "Total no of alphabets 3\n",
      "Toatal no of Digits  3\n"
     ]
    }
   ],
   "source": [
    "st=input()\n",
    "countDigits=0\n",
    "countAlpha=0\n",
    "for i in st:\n",
    "    if ((i>='A' and i<='Z') or (i>='a' and i<='z')):\n",
    "        countAlpha+=1\n",
    "    elif i>='0' and i<='9':\n",
    "        countDigits+=1\n",
    "print(\"Total no of alphabets\",countAlpha)\n",
    "print(\"Toatal no of Digits \",countDigits)"
   ]
  },
  {
   "cell_type": "code",
   "execution_count": 29,
   "metadata": {},
   "outputs": [
    {
     "name": "stdout",
     "output_type": "stream",
     "text": [
      "Equal\n"
     ]
    }
   ],
   "source": [
    "st=input()\n",
    "countAlpha=0\n",
    "countDigit=0\n",
    "for i in st:\n",
    "    if ((i>='A' and i<='Z') or (i>='a' and i<='z')):\n",
    "        countAlpha+=1\n",
    "    elif i>='0' and i<='9':\n",
    "        countDigit+=1\n",
    "if(countAlpha==countDigit):\n",
    "    print(\"Equal\")\n",
    "else:\n",
    "    print(\"Not Equal\")"
   ]
  },
  {
   "cell_type": "code",
   "execution_count": 30,
   "metadata": {},
   "outputs": [
    {
     "name": "stdout",
     "output_type": "stream",
     "text": [
      "b\n"
     ]
    }
   ],
   "source": [
    "st=input()\n",
    "start=0\n",
    "end=len(st)-1\n",
    "while start<=end:\n",
    "    index=start\n",
    "    char=st[index]\n",
    "\n",
    "    if index%2!=0 and (char>='a' and char<'z'):\n",
    "        print(char)\n",
    "    start+=1"
   ]
  },
  {
   "cell_type": "code",
   "execution_count": 1,
   "metadata": {},
   "outputs": [
    {
     "name": "stdout",
     "output_type": "stream",
     "text": [
      "abcd\n"
     ]
    }
   ],
   "source": [
    "st=input()\n",
    "res=\"\"\n",
    "for i in st:\n",
    "    res=res+i\n",
    "print(res)"
   ]
  },
  {
   "cell_type": "code",
   "execution_count": 2,
   "metadata": {},
   "outputs": [
    {
     "name": "stdout",
     "output_type": "stream",
     "text": [
      "Palindrome\n"
     ]
    }
   ],
   "source": [
    "st=input()\n",
    "res=\"\"\n",
    "for i in st:\n",
    "    res=i+res\n",
    "if(st==res):\n",
    "    print(\"Palindrome\")\n",
    "else:\n",
    "    print(\"not a palindrome\")"
   ]
  },
  {
   "cell_type": "code",
   "execution_count": 3,
   "metadata": {},
   "outputs": [
    {
     "name": "stdout",
     "output_type": "stream",
     "text": [
      "ae\n"
     ]
    }
   ],
   "source": [
    "st=input()\n",
    "res=\"\"\n",
    "for i in st:\n",
    "    if i in \"aeiouAEIOU\":\n",
    "        res=res+i\n",
    "print(res)\n"
   ]
  },
  {
   "cell_type": "code",
   "execution_count": 4,
   "metadata": {},
   "outputs": [
    {
     "name": "stdout",
     "output_type": "stream",
     "text": [
      "abcXyzXYZ\n",
      "123\n",
      "@\n"
     ]
    }
   ],
   "source": [
    "st=input()\n",
    "resAlpha=\"\"\n",
    "resDigit=\"\"\n",
    "resSymbol=\"\"\n",
    "\n",
    "for i in st:\n",
    "    if ((i>='A' and i<='Z') or (i>='a' and i<='z')):\n",
    "        resAlpha+=i\n",
    "    elif i>='0' and i<='9':\n",
    "        resDigit+=i\n",
    "    else:\n",
    "        resSymbol+=i\n",
    "print(resAlpha)\n",
    "print(resDigit)\n",
    "print(resSymbol)"
   ]
  },
  {
   "cell_type": "code",
   "execution_count": 3,
   "metadata": {},
   "outputs": [
    {
     "name": "stdout",
     "output_type": "stream",
     "text": [
      "anbcde123@123\n"
     ]
    }
   ],
   "source": [
    "st=\"abc(anbcde)xy{123}[@123]\"\n",
    "res=\"\"\n",
    "flag=False\n",
    "for i in st:\n",
    "    if i in '({[':\n",
    "        flag=True\n",
    "    elif i in '}])':\n",
    "        flag=False\n",
    "    elif flag:\n",
    "        res=res+i\n",
    "print(res)        "
   ]
  },
  {
   "cell_type": "code",
   "execution_count": 4,
   "metadata": {},
   "outputs": [
    {
     "name": "stdout",
     "output_type": "stream",
     "text": [
      "-axi-u-\n"
     ]
    }
   ],
   "source": [
    " t\n",
    "        maxChar=i\n",
    "res=\"\"\n",
    "for i in st:\n",
    "    if i==maxChar:\n",
    "        res=res+repChar\n",
    "    else:\n",
    "        res=res+i\n",
    "print(res)\n"
   ]
  },
  {
   "cell_type": "code",
   "execution_count": 5,
   "metadata": {},
   "outputs": [
    {
     "name": "stdout",
     "output_type": "stream",
     "text": [
      "p\n",
      "pr\n",
      "pro\n",
      "prog\n",
      "progr\n",
      "progra\n",
      "program\n",
      "r\n",
      "ro\n",
      "rog\n",
      "rogr\n",
      "rogra\n",
      "rogram\n",
      "o\n",
      "og\n",
      "ogr\n",
      "ogra\n",
      "ogram\n",
      "g\n",
      "gr\n",
      "gra\n",
      "gram\n",
      "r\n",
      "ra\n",
      "ram\n",
      "a\n",
      "am\n",
      "m\n"
     ]
    }
   ],
   "source": [
    "#substrings of the given string\n",
    "st=\"program\"\n",
    "i=0\n",
    "while i<len(st):\n",
    "    j=i\n",
    "    while j<len(st):\n",
    "        print(st[i:j+1])\n",
    "        j+=1\n",
    "    i+=1\n",
    "\n"
   ]
  },
  {
   "cell_type": "code",
   "execution_count": 13,
   "metadata": {},
   "outputs": [
    {
     "name": "stdout",
     "output_type": "stream",
     "text": [
      "{'ba', 'ab'}\n"
     ]
    }
   ],
   "source": [
    "st=\"ababaaba\"\n",
    "i=0\n",
    "l=[]\n",
    "while i<len(st):\n",
    "    j=i\n",
    "    while j<len(st):\n",
    "        subString=st[i:j+1]\n",
    "        res=\"\" \n",
    "        flag=True\n",
    "        for k in subString:\n",
    "            if k not in res:\n",
    "                res+=k\n",
    "            else:\n",
    "                flag=False\n",
    "        if (flag and len(subString)>1):\n",
    "            l=l+[subString]\n",
    "        j+=1\n",
    "    i+=1\n",
    "print(set(l))"
   ]
  },
  {
   "cell_type": "code",
   "execution_count": 18,
   "metadata": {},
   "outputs": [
    {
     "name": "stdout",
     "output_type": "stream",
     "text": [
      "abaaba\n"
     ]
    }
   ],
   "source": [
    "st=\"ababaaba\"\n",
    "i=0\n",
    "maxSubString=\"\"\n",
    "maxLength=0\n",
    "while i<len(st):\n",
    "    j=i\n",
    "    while j<len(st):\n",
    "        subString=st[i:j+1]\n",
    "        res=\"\" \n",
    "        for k in subString:\n",
    "            res=k+res\n",
    "        if (res==subString) and len(subString)>1:\n",
    "            if (len(subString)>maxLength):\n",
    "                maxSubString=subString\n",
    "                maxLength=len(subString)\n",
    "        j+=1\n",
    "        \n",
    "    i+=1\n",
    "print(maxSubString)"
   ]
  },
  {
   "cell_type": "markdown",
   "metadata": {},
   "source": [
    "st=\"hello world 123 haii\"\n",
    "c=0\n",
    "res=\"\"\n",
    "for i in st:\n"
   ]
  },
  {
   "cell_type": "code",
   "execution_count": 8,
   "metadata": {},
   "outputs": [
    {
     "name": "stdout",
     "output_type": "stream",
     "text": [
      "hll world haii\n"
     ]
    }
   ],
   "source": [
    "st=\"hello world 123 haii\"\n",
    "c=1\n",
    "res=\"\"\n",
    "for i in st:\n",
    "    if i==' ':\n",
    "        c+=1\n",
    "        if res[-1]!=' ':\n",
    "            res=res+\" \"\n",
    "    elif c%2==1:\n",
    "        if i not in \"aeiouAEIOU\" and ((i>='a' and i<'z') or (i>='A' and i<='z')):\n",
    "            res=res+i\n",
    "    elif c%2==0:\n",
    "        res=res+i\n",
    "print(res)\n"
   ]
  },
  {
   "cell_type": "code",
   "execution_count": 14,
   "metadata": {},
   "outputs": [
    {
     "name": "stdout",
     "output_type": "stream",
     "text": [
      "321HELLO WORLD654\n"
     ]
    }
   ],
   "source": [
    "st='123HELLO WORLD456'\n",
    "resDigit=\"\"\n",
    "res=\"\"\n",
    "j=0\n",
    "for i in st:\n",
    "    if i>='0' and i<='9':\n",
    "        resDigit=i+resDigit\n",
    "    elif st[j-1]>='0' and st[j-1]<='9':\n",
    "        res+=resDigit\n",
    "        res+=i\n",
    "        resDigit=\"\"\n",
    "    else:\n",
    "        res+=i\n",
    "    j+=1\n",
    "res+=resDigit\n",
    "print(res)"
   ]
  },
  {
   "cell_type": "code",
   "execution_count": 19,
   "metadata": {},
   "outputs": [
    {
     "name": "stdout",
     "output_type": "stream",
     "text": [
      "xaybzcwdefghi\n"
     ]
    }
   ],
   "source": [
    "st1=\"xyzw\"\n",
    "st2=\"abcdefghi\"\n",
    "res=\"\"\n",
    "i=0\n",
    "j=0\n",
    "while i<len(st1) or j<len(st2):\n",
    "    if (i<len(st1) and j<len(st2)):\n",
    "        res=res+st1[i]+st2[j]\n",
    "    elif i<len(st1):\n",
    "        res=res+st1[i]\n",
    "    else:\n",
    "        res=res+st2[j]\n",
    "\n",
    "    j+=1\n",
    "    i+=1\n",
    "print(res)"
   ]
  },
  {
   "cell_type": "code",
   "execution_count": 25,
   "metadata": {},
   "outputs": [
    {
     "name": "stdout",
     "output_type": "stream",
     "text": [
      "H1AII 2H3EL4L5O\n"
     ]
    }
   ],
   "source": [
    "st=\"HAII HELLO\"\n",
    "c=0\n",
    "res=\"\"\n",
    "for i in st:\n",
    "    if i not in \"aeiouAEIOU\":\n",
    "        c+=1\n",
    "        res=res+i+str(c)\n",
    "    else:\n",
    "        res=res+i\n",
    "print(res)\n"
   ]
  },
  {
   "cell_type": "code",
   "execution_count": 26,
   "metadata": {},
   "outputs": [
    {
     "name": "stdout",
     "output_type": "stream",
     "text": [
      "a17b28c20\n"
     ]
    }
   ],
   "source": [
    "st=\"aaaaaaaaaaaaaaaaabbbbbbbbbbbbbbbbbbbbbbbbbbbbcccccccccccccccccccc\"\n",
    "c=0\n",
    "res=\"\"\n",
    "ch=st[0]\n",
    "for i in st:\n",
    "    if i==ch:\n",
    "        c+=1\n",
    "    else:\n",
    "        res=res+ch+str(c)\n",
    "        ch=i\n",
    "        c=1\n",
    "res=res+ch+str(c)\n",
    "print(res)"
   ]
  },
  {
   "cell_type": "code",
   "execution_count": 27,
   "metadata": {},
   "outputs": [
    {
     "ename": "ValueError",
     "evalue": "invalid literal for int() with base 10: ''",
     "output_type": "error",
     "traceback": [
      "\u001b[1;31m---------------------------------------------------------------------------\u001b[0m",
      "\u001b[1;31mValueError\u001b[0m                                Traceback (most recent call last)",
      "Cell \u001b[1;32mIn[27], line 1\u001b[0m\n\u001b[1;32m----> 1\u001b[0m \u001b[38;5;28;43mint\u001b[39;49m\u001b[43m(\u001b[49m\u001b[38;5;124;43m\"\u001b[39;49m\u001b[38;5;124;43m\"\u001b[39;49m\u001b[43m)\u001b[49m\n",
      "\u001b[1;31mValueError\u001b[0m: invalid literal for int() with base 10: ''"
     ]
    }
   ],
   "source": []
  }
 ],
 "metadata": {
  "kernelspec": {
   "display_name": "Python 3",
   "language": "python",
   "name": "python3"
  },
  "language_info": {
   "codemirror_mode": {
    "name": "ipython",
    "version": 3
   },
   "file_extension": ".py",
   "mimetype": "text/x-python",
   "name": "python",
   "nbconvert_exporter": "python",
   "pygments_lexer": "ipython3",
   "version": "3.12.1"
  }
 },
 "nbformat": 4,
 "nbformat_minor": 2
}
