{
 "cells": [
  {
   "cell_type": "code",
   "execution_count": 5,
   "metadata": {},
   "outputs": [],
   "source": [
    "def creatlist(size):\n",
    "    l=[0]*size\n",
    "    i=0\n",
    "    while i<len(l):\n",
    "        l[i]=int(input())\n",
    "        i+=1\n",
    "    return l\n"
   ]
  },
  {
   "cell_type": "code",
   "execution_count": 6,
   "metadata": {},
   "outputs": [
    {
     "name": "stdout",
     "output_type": "stream",
     "text": [
      "10\n",
      "20\n",
      "30\n",
      "40\n",
      "50\n"
     ]
    }
   ],
   "source": [
    "list1=creatlist(5)\n",
    "for i in list1:\n",
    "    print(i)"
   ]
  },
  {
   "cell_type": "code",
   "execution_count": 7,
   "metadata": {},
   "outputs": [
    {
     "name": "stdout",
     "output_type": "stream",
     "text": [
      "9\n",
      "5\n"
     ]
    }
   ],
   "source": [
    "\n",
    "def isprime(num):\n",
    "    c=0\n",
    "    i=1\n",
    "    while i<=num:\n",
    "        if num%i==0:\n",
    "            c+=1\n",
    "        i+=1\n",
    "    return c==2\n",
    "\n",
    "def odd(num):\n",
    "    return num%2!=0\n",
    "\n",
    "def fun(l):\n",
    "    j=0\n",
    "    for i in l:\n",
    "        if isprime(j) and odd(i):\n",
    "            print(i)\n",
    "        j+=1\n",
    "\n",
    "\n",
    "\n",
    "l=[1,8,9,5,8,22,13,4,33,4]\n",
    "\n",
    "fun(l)\n",
    "\n",
    "\n"
   ]
  }
 ],
 "metadata": {
  "kernelspec": {
   "display_name": "Python 3",
   "language": "python",
   "name": "python3"
  },
  "language_info": {
   "codemirror_mode": {
    "name": "ipython",
    "version": 3
   },
   "file_extension": ".py",
   "mimetype": "text/x-python",
   "name": "python",
   "nbconvert_exporter": "python",
   "pygments_lexer": "ipython3",
   "version": "3.12.2"
  }
 },
 "nbformat": 4,
 "nbformat_minor": 2
}
