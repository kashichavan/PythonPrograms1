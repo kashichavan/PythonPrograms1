{
 "cells": [
  {
   "cell_type": "code",
   "execution_count": 2,
   "metadata": {},
   "outputs": [
    {
     "name": "stdout",
     "output_type": "stream",
     "text": [
      "['sai', 'sam', 'chotu', 'karim', 'nathan']\n"
     ]
    }
   ],
   "source": [
    "names=['sai','chotu','nathan','karim','sam']\n",
    "j=0\n",
    "while j<len(names)-1:\n",
    "    i=0\n",
    "    while i<len(names)-1:\n",
    "        l1=len(names[i])\n",
    "        l2=len(names[i+1])\n",
    "        if l1>l2:\n",
    "            res=names[i]\n",
    "            names[i]=names[i+1]\n",
    "            names[i+1]=res\n",
    "        i+=1\n",
    "    j+=1\n",
    "print(names)\n"
   ]
  },
  {
   "cell_type": "code",
   "execution_count": 7,
   "metadata": {},
   "outputs": [
    {
     "name": "stdout",
     "output_type": "stream",
     "text": [
      "['ABCD', 'ABcd', 'XYZ', 'abcd', 'xyz']\n"
     ]
    }
   ],
   "source": [
    "l=['a','c','A','x','Z','b']\n",
    "l1=[\"abcd\",\"ABCD\",\"ABcd\",\"xyz\",\"XYZ\"]\n",
    "# o/p --> ['A','Z','a','b','c','x',]\n",
    "# o/p --> [\"ABCD\",\"XYZ\",\"abcd\",\"xyz\"]\n",
    "j=0\n",
    "while j<len(l1)-1:\n",
    "    i=0\n",
    "    while i<len(l1)-1:\n",
    "        if l1[i]>l1[i+1]:\n",
    "            res=l1[i]\n",
    "            l1[i]=l1[i+1]\n",
    "            l1[i+1]=res\n",
    "        i+=1\n",
    "    j+=1\n",
    "print(l1)"
   ]
  },
  {
   "cell_type": "code",
   "execution_count": 7,
   "metadata": {},
   "outputs": [
    {
     "name": "stdout",
     "output_type": "stream",
     "text": [
      "hero\n"
     ]
    }
   ],
   "source": [
    "n=\"hero\"\n",
    "if type(n) not in [int,float,complex,bool,None]:\n",
    "    print(n)"
   ]
  }
 ],
 "metadata": {
  "kernelspec": {
   "display_name": "Python 3",
   "language": "python",
   "name": "python3"
  },
  "language_info": {
   "codemirror_mode": {
    "name": "ipython",
    "version": 3
   },
   "file_extension": ".py",
   "mimetype": "text/x-python",
   "name": "python",
   "nbconvert_exporter": "python",
   "pygments_lexer": "ipython3",
   "version": "3.12.2"
  }
 },
 "nbformat": 4,
 "nbformat_minor": 2
}
