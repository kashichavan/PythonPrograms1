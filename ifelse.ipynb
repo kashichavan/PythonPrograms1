{
 "cells": [
  {
   "cell_type": "code",
   "execution_count": 2,
   "metadata": {},
   "outputs": [
    {
     "name": "stdout",
     "output_type": "stream",
     "text": [
      "9\n",
      "Program end\n"
     ]
    }
   ],
   "source": [
    "num=int(input())\n",
    "if num>10:\n",
    "    print(num**2)\n",
    "else:\n",
    "    print(num)\n",
    "print(\"Program end\")"
   ]
  },
  {
   "cell_type": "code",
   "execution_count": 2,
   "metadata": {},
   "outputs": [
    {
     "name": "stdout",
     "output_type": "stream",
     "text": [
      "D\n"
     ]
    }
   ],
   "source": [
    "ch=input()\n",
    "if ch>='a' and ch<='z':\n",
    "    print(chr(ord(ch)-32))\n",
    "else:\n",
    "    print(ord(ch))"
   ]
  },
  {
   "cell_type": "code",
   "execution_count": 3,
   "metadata": {},
   "outputs": [],
   "source": [
    "ch=input()\n",
    "if ch>='a' and ch<='z':\n",
    "    print(\"LowerCase\")\n",
    "elif ch>='A' and ch<='Z':\n",
    "    print(\"Uppercase\")\n",
    "elif ch>='0' and ch<='9':\n",
    "    print(\"Digit\")"
   ]
  },
  {
   "cell_type": "code",
   "execution_count": null,
   "metadata": {},
   "outputs": [],
   "source": []
  },
  {
   "cell_type": "markdown",
   "metadata": {},
   "source": [
    "write program to check whether the given number is divisible by 3 if it is divisible by 3 then print \"FiZZ\" else check whether it is divisible by 5 if it is then print \"BUZZ\" \n",
    "else check whether it is divisible by both 3 and 5 if it is then print \"FIZZBUZZ\"\n",
    "else print the same number."
   ]
  },
  {
   "cell_type": "code",
   "execution_count": 8,
   "metadata": {},
   "outputs": [
    {
     "name": "stdout",
     "output_type": "stream",
     "text": [
      "FIZZBUZZ\n"
     ]
    }
   ],
   "source": [
    "num=int(input())\n",
    "if   num%3==0 and num%5==0:\n",
    "    print(\"FIZZBUZZ\")\n",
    "elif num%5==0:\n",
    "    print(\"BUZZ\")\n",
    "elif num%3==0:\n",
    "    print(\"FIZZ\")\n",
    "else:\n",
    "    print(num)"
   ]
  }
 ],
 "metadata": {
  "kernelspec": {
   "display_name": "Python 3",
   "language": "python",
   "name": "python3"
  },
  "language_info": {
   "codemirror_mode": {
    "name": "ipython",
    "version": 3
   },
   "file_extension": ".py",
   "mimetype": "text/x-python",
   "name": "python",
   "nbconvert_exporter": "python",
   "pygments_lexer": "ipython3",
   "version": "3.12.2"
  }
 },
 "nbformat": 4,
 "nbformat_minor": 2
}
