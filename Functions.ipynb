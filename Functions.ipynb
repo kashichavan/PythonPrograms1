{
 "cells": [
  {
   "cell_type": "code",
   "execution_count": 3,
   "metadata": {},
   "outputs": [
    {
     "ename": "NameError",
     "evalue": "name 'dinga' is not defined",
     "output_type": "error",
     "traceback": [
      "\u001b[1;31m---------------------------------------------------------------------------\u001b[0m",
      "\u001b[1;31mNameError\u001b[0m                                 Traceback (most recent call last)",
      "Cell \u001b[1;32mIn[3], line 4\u001b[0m\n\u001b[0;32m      2\u001b[0m     \u001b[38;5;28mprint\u001b[39m(\u001b[38;5;124m\"\u001b[39m\u001b[38;5;124mHello Im Sheela\u001b[39m\u001b[38;5;124m\"\u001b[39m)\n\u001b[0;32m      3\u001b[0m     \u001b[38;5;28mprint\u001b[39m(\u001b[38;5;124m\"\u001b[39m\u001b[38;5;124mHow Are You..?\u001b[39m\u001b[38;5;124m\"\u001b[39m)\n\u001b[1;32m----> 4\u001b[0m \u001b[43mdinga\u001b[49m()\n",
      "\u001b[1;31mNameError\u001b[0m: name 'dinga' is not defined"
     ]
    }
   ],
   "source": [
    "def sheela():\n",
    "    print(\"Hello Im Sheela\")\n",
    "    print(\"How Are You..?\")\n",
    "dinga()"
   ]
  },
  {
   "cell_type": "code",
   "execution_count": 5,
   "metadata": {},
   "outputs": [
    {
     "name": "stdout",
     "output_type": "stream",
     "text": [
      "Bye-Bye\n"
     ]
    }
   ],
   "source": [
    "def func1():\n",
    "    print(\"Bye-Bye\")\n",
    "def func2():\n",
    "    print(\"Good Bye\")\n",
    "\n",
    "var=func1\n",
    "var()"
   ]
  },
  {
   "cell_type": "code",
   "execution_count": 9,
   "metadata": {},
   "outputs": [
    {
     "name": "stdout",
     "output_type": "stream",
     "text": [
      "The Given number is 10\n",
      "The Given number is 100\n",
      "The Given number is 300\n"
     ]
    },
    {
     "ename": "TypeError",
     "evalue": "display() missing 1 required positional argument: 'num'",
     "output_type": "error",
     "traceback": [
      "\u001b[1;31m---------------------------------------------------------------------------\u001b[0m",
      "\u001b[1;31mTypeError\u001b[0m                                 Traceback (most recent call last)",
      "Cell \u001b[1;32mIn[9], line 6\u001b[0m\n\u001b[0;32m      4\u001b[0m display(\u001b[38;5;241m100\u001b[39m)\n\u001b[0;32m      5\u001b[0m display(\u001b[38;5;241m300\u001b[39m)\n\u001b[1;32m----> 6\u001b[0m \u001b[43mdisplay\u001b[49m\u001b[43m(\u001b[49m\u001b[43m)\u001b[49m\n",
      "\u001b[1;31mTypeError\u001b[0m: display() missing 1 required positional argument: 'num'"
     ]
    }
   ],
   "source": [
    "def display(num):\n",
    "    print(f\"The Given number is {num}\")\n",
    "display(10)\n",
    "display(100)\n",
    "display(300)\n",
    "display()"
   ]
  },
  {
   "cell_type": "code",
   "execution_count": null,
   "metadata": {},
   "outputs": [],
   "source": []
  },
  {
   "cell_type": "code",
   "execution_count": 5,
   "metadata": {},
   "outputs": [
    {
     "name": "stdout",
     "output_type": "stream",
     "text": [
      "The sum of 10 and 20 is : 30\n",
      "The sum of 10 and 20 is : 30\n"
     ]
    }
   ],
   "source": [
    "a=10\n",
    "b=20\n",
    "sum=a+b\n",
    "print(f\"The sum of {a} and {b} is : {sum}\")\n",
    "print(\"The sum of {0} and {1} is : {2}\".format(a,b,sum))"
   ]
  },
  {
   "cell_type": "code",
   "execution_count": 10,
   "metadata": {},
   "outputs": [
    {
     "name": "stdout",
     "output_type": "stream",
     "text": [
      "the given 10 is even\n",
      "the given 11 is odd\n",
      "the given 12 is even\n",
      "the given 13 is odd\n"
     ]
    }
   ],
   "source": [
    "def evenorodd(num):\n",
    "    if num%2==0 and num!=0:\n",
    "        print(f\"the given {num} is even\")\n",
    "    elif num%2!=0 and num!=0:\n",
    "        print(f\"the given {num} is odd\")\n",
    "evenorodd(10)\n",
    "evenorodd(11)\n",
    "evenorodd(12)\n",
    "evenorodd(13)"
   ]
  },
  {
   "cell_type": "code",
   "execution_count": 11,
   "metadata": {},
   "outputs": [
    {
     "name": "stdout",
     "output_type": "stream",
     "text": [
      "The given A is Uppercase\n",
      "The given a is Lowercase\n",
      "The given e is Lowercase\n"
     ]
    }
   ],
   "source": [
    "def isAlpha(ch):\n",
    "    if ch>='a' and ch<='z':\n",
    "        print(f\"The given {ch} is Lowercase\")\n",
    "    elif ch>='A' and ch<='Z':\n",
    "        print(f\"The given {ch} is Uppercase\")\n",
    "isAlpha('A')\n",
    "isAlpha('a')\n",
    "isAlpha('e')\n",
    "isAlpha('$')"
   ]
  },
  {
   "cell_type": "code",
   "execution_count": 12,
   "metadata": {},
   "outputs": [
    {
     "name": "stdout",
     "output_type": "stream",
     "text": [
      "Prime number\n",
      "Not a prime Number\n"
     ]
    }
   ],
   "source": [
    "def isPrime(num):\n",
    "    c=0\n",
    "    i=1\n",
    "    while i<=num:\n",
    "        if num%i==0:\n",
    "            c+=1\n",
    "        i+=1\n",
    "    if (c==2):\n",
    "        print(\"Prime number\")\n",
    "    else:\n",
    "        print(\"Not a prime Number\")\n",
    "isPrime(11)\n",
    "isPrime(8)\n"
   ]
  }
 ],
 "metadata": {
  "kernelspec": {
   "display_name": "Python 3",
   "language": "python",
   "name": "python3"
  },
  "language_info": {
   "codemirror_mode": {
    "name": "ipython",
    "version": 3
   },
   "file_extension": ".py",
   "mimetype": "text/x-python",
   "name": "python",
   "nbconvert_exporter": "python",
   "pygments_lexer": "ipython3",
   "version": "3.12.1"
  }
 },
 "nbformat": 4,
 "nbformat_minor": 2
}
