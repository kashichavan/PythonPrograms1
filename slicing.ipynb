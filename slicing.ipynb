{
 "cells": [
  {
   "cell_type": "code",
   "execution_count": 10,
   "metadata": {},
   "outputs": [
    {
     "name": "stdout",
     "output_type": "stream",
     "text": [
      "ramanujan\n",
      "rama\n",
      "jan\n",
      "manu\n",
      "\n",
      "\n",
      "u\n",
      "uja\n",
      "manuja\n"
     ]
    }
   ],
   "source": [
    "st=\"ramanujan\"\n",
    "print(st[:])\n",
    "print(st[:4])\n",
    "print(st[6:])\n",
    "print(st[2:6])\n",
    "print(st[6:3])\n",
    "print(st[-4:5])\n",
    "print(st[-4:6])\n",
    "print(st[-4:-1])\n",
    "print(st[-7:-1])"
   ]
  },
  {
   "cell_type": "code",
   "execution_count": 17,
   "metadata": {},
   "outputs": [
    {
     "name": "stdout",
     "output_type": "stream",
     "text": [
      "njnmr\n",
      "ra\n",
      "ju\n",
      "m\n",
      "num\n",
      "rnn\n"
     ]
    }
   ],
   "source": [
    "st=\"ramanujan\"\n",
    "print(st[::-2])\n",
    "print(st[0:4:3])\n",
    "print(st[6:4:-1])\n",
    "print(st[-7:4:2])\n",
    "print(st[::-3])\n",
    "print(st[::4])"
   ]
  },
  {
   "cell_type": "code",
   "execution_count": 20,
   "metadata": {},
   "outputs": [
    {
     "name": "stdout",
     "output_type": "stream",
     "text": [
      "[1, 2, 3]\n",
      "[1, 2]\n",
      "[3, 2]\n"
     ]
    }
   ],
   "source": [
    "l=[1,2,3]\n",
    "print(l[:])\n",
    "print(l[:2])\n",
    "print(l[2:0:-1])"
   ]
  }
 ],
 "metadata": {
  "kernelspec": {
   "display_name": "Python 3",
   "language": "python",
   "name": "python3"
  },
  "language_info": {
   "codemirror_mode": {
    "name": "ipython",
    "version": 3
   },
   "file_extension": ".py",
   "mimetype": "text/x-python",
   "name": "python",
   "nbconvert_exporter": "python",
   "pygments_lexer": "ipython3",
   "version": "3.12.2"
  }
 },
 "nbformat": 4,
 "nbformat_minor": 2
}
