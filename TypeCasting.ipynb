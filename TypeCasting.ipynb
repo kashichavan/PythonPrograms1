{
 "cells": [
  {
   "cell_type": "code",
   "execution_count": 9,
   "metadata": {},
   "outputs": [
    {
     "name": "stdout",
     "output_type": "stream",
     "text": [
      "100\n",
      "100.0\n",
      "(100+0j)\n",
      "True\n",
      "False\n",
      "100\n",
      "1\n",
      "0\n",
      "0\n"
     ]
    },
    {
     "ename": "TypeError",
     "evalue": "'int' object is not iterable",
     "output_type": "error",
     "traceback": [
      "\u001b[1;31m---------------------------------------------------------------------------\u001b[0m",
      "\u001b[1;31mTypeError\u001b[0m                                 Traceback (most recent call last)",
      "Cell \u001b[1;32mIn[9], line 13\u001b[0m\n\u001b[0;32m     11\u001b[0m \u001b[38;5;28mprint\u001b[39m(\u001b[38;5;28mstr\u001b[39m(a)[\u001b[38;5;241m1\u001b[39m])\n\u001b[0;32m     12\u001b[0m \u001b[38;5;28mprint\u001b[39m(\u001b[38;5;28mstr\u001b[39m(a)[\u001b[38;5;241m2\u001b[39m])\n\u001b[1;32m---> 13\u001b[0m \u001b[38;5;28mprint\u001b[39m(\u001b[38;5;28;43mlist\u001b[39;49m\u001b[43m(\u001b[49m\u001b[43ma\u001b[49m\u001b[43m)\u001b[49m)\n",
      "\u001b[1;31mTypeError\u001b[0m: 'int' object is not iterable"
     ]
    }
   ],
   "source": [
    "a=100\n",
    "print(int(a))\n",
    "b=float(a)\n",
    "c=complex(a)\n",
    "print(b)\n",
    "print(c)\n",
    "print(bool(a))\n",
    "print(bool(0))\n",
    "print(str(a))\n",
    "print(str(a)[0])\n",
    "print(str(a)[1])\n",
    "print(str(a)[2])\n",
    "print(list(a))"
   ]
  },
  {
   "cell_type": "markdown",
   "metadata": {},
   "source": [
    "converting float into other data types:\n",
    "------- ---------------------------\n",
    "\n",
    "float can be converted into int,complex,bool,str\n",
    "\n"
   ]
  },
  {
   "cell_type": "code",
   "execution_count": 11,
   "metadata": {},
   "outputs": [
    {
     "name": "stdout",
     "output_type": "stream",
     "text": [
      "50\n",
      "(50.3+0j)\n",
      "True\n",
      "50.3\n",
      ".\n"
     ]
    },
    {
     "ename": "TypeError",
     "evalue": "'float' object is not iterable",
     "output_type": "error",
     "traceback": [
      "\u001b[1;31m---------------------------------------------------------------------------\u001b[0m",
      "\u001b[1;31mTypeError\u001b[0m                                 Traceback (most recent call last)",
      "Cell \u001b[1;32mIn[11], line 7\u001b[0m\n\u001b[0;32m      5\u001b[0m \u001b[38;5;28mprint\u001b[39m(\u001b[38;5;28mstr\u001b[39m(num))\n\u001b[0;32m      6\u001b[0m \u001b[38;5;28mprint\u001b[39m(\u001b[38;5;28mstr\u001b[39m(num)[\u001b[38;5;241m2\u001b[39m])\n\u001b[1;32m----> 7\u001b[0m \u001b[38;5;28mprint\u001b[39m(\u001b[38;5;28;43mlist\u001b[39;49m\u001b[43m(\u001b[49m\u001b[43mnum\u001b[49m\u001b[43m)\u001b[49m)\n",
      "\u001b[1;31mTypeError\u001b[0m: 'float' object is not iterable"
     ]
    }
   ],
   "source": [
    "num=50.3\n",
    "print(int(num))\n",
    "print(complex(num))\n",
    "print(bool(num))\n",
    "print(str(num))\n",
    "print(str(num)[2])\n",
    "print(list(num))"
   ]
  },
  {
   "cell_type": "markdown",
   "metadata": {},
   "source": [
    "converting complex into other data types:\n",
    "------- ---------------------------\n",
    "\n",
    "complex can be converted into bool,str"
   ]
  },
  {
   "cell_type": "code",
   "execution_count": 17,
   "metadata": {},
   "outputs": [
    {
     "name": "stdout",
     "output_type": "stream",
     "text": [
      "(1+3j)\n",
      "True\n",
      "(1+3j)\n",
      "(\n",
      "1\n",
      "+\n",
      "3\n",
      "j\n",
      ")\n"
     ]
    }
   ],
   "source": [
    "v=1+3j\n",
    "print(v)\n",
    "print(bool(v))\n",
    "print(str(v))\n",
    "print(str(v)[0])\n",
    "print(str(v)[1])\n",
    "print(str(v)[2])\n",
    "print(str(v)[3])\n",
    "print(str(v)[4])\n",
    "print(str(v)[5])"
   ]
  },
  {
   "cell_type": "markdown",
   "metadata": {},
   "source": [
    "converting bool into other data types:\n",
    "----------------------------------------\n",
    "\n",
    "bool can be converted into int,float,complex,string"
   ]
  },
  {
   "cell_type": "code",
   "execution_count": 19,
   "metadata": {},
   "outputs": [
    {
     "name": "stdout",
     "output_type": "stream",
     "text": [
      "1\n",
      "1.0\n",
      "(1+0j)\n",
      "True\n",
      "T\n",
      "r\n",
      "u\n",
      "e\n"
     ]
    },
    {
     "ename": "TypeError",
     "evalue": "'bool' object is not iterable",
     "output_type": "error",
     "traceback": [
      "\u001b[1;31m---------------------------------------------------------------------------\u001b[0m",
      "\u001b[1;31mTypeError\u001b[0m                                 Traceback (most recent call last)",
      "Cell \u001b[1;32mIn[19], line 10\u001b[0m\n\u001b[0;32m      8\u001b[0m \u001b[38;5;28mprint\u001b[39m(\u001b[38;5;28mstr\u001b[39m(flag)[\u001b[38;5;241m2\u001b[39m])\n\u001b[0;32m      9\u001b[0m \u001b[38;5;28mprint\u001b[39m(\u001b[38;5;28mstr\u001b[39m(flag)[\u001b[38;5;241m3\u001b[39m])\n\u001b[1;32m---> 10\u001b[0m \u001b[38;5;28mprint\u001b[39m(\u001b[38;5;28;43mlist\u001b[39;49m\u001b[43m(\u001b[49m\u001b[43mflag\u001b[49m\u001b[43m)\u001b[49m)\n",
      "\u001b[1;31mTypeError\u001b[0m: 'bool' object is not iterable"
     ]
    }
   ],
   "source": [
    "flag=True\n",
    "print(int(flag))\n",
    "print(float(flag))\n",
    "print(complex(flag))\n",
    "print(str(flag))\n",
    "print(str(flag)[0])\n",
    "print(str(flag)[1])\n",
    "print(str(flag)[2])\n",
    "print(str(flag)[3])\n",
    "print(list(flag))"
   ]
  },
  {
   "cell_type": "markdown",
   "metadata": {},
   "source": [
    "converting string into other data types:\n",
    "------------------------------\n",
    "\n",
    "string -> int:\n",
    "---------------\n",
    "String can be converted into int only when it contain pure interger values\n",
    "\n",
    "exa: \"123\"--> 123,\"123a\" --> error\n",
    "\n",
    "String -> float:\n",
    "----------------\n",
    "\n",
    "String can be converted into float only when it contain pure interger values and also float values.\n",
    "\n",
    "ex: \"123\"--> 123.0 ,\"123.6\"--> 123.6\n",
    "\n",
    "\n",
    "String -> complex:\n",
    "----------------\n",
    "\n",
    "String can be converted into complex only when it contain pure interger values or float values and complex value.\n",
    "\n",
    "ex: \"123\"--> 123+0j ,\"123.6\"--> 123.6+0j, \"12+3j\" --> (12+3j)"
   ]
  },
  {
   "cell_type": "code",
   "execution_count": 26,
   "metadata": {},
   "outputs": [
    {
     "name": "stdout",
     "output_type": "stream",
     "text": [
      "(1234+0j)\n"
     ]
    }
   ],
   "source": [
    "st=\"1234\"\n",
    "print(complex(st))"
   ]
  },
  {
   "cell_type": "code",
   "execution_count": 27,
   "metadata": {},
   "outputs": [
    {
     "ename": "ValueError",
     "evalue": "complex() arg is a malformed string",
     "output_type": "error",
     "traceback": [
      "\u001b[1;31m---------------------------------------------------------------------------\u001b[0m",
      "\u001b[1;31mValueError\u001b[0m                                Traceback (most recent call last)",
      "Cell \u001b[1;32mIn[27], line 2\u001b[0m\n\u001b[0;32m      1\u001b[0m st\u001b[38;5;241m=\u001b[39m\u001b[38;5;124m\"\u001b[39m\u001b[38;5;124m1a23\u001b[39m\u001b[38;5;124m\"\u001b[39m\n\u001b[1;32m----> 2\u001b[0m \u001b[38;5;28mprint\u001b[39m(\u001b[38;5;28;43mcomplex\u001b[39;49m\u001b[43m(\u001b[49m\u001b[43mst\u001b[49m\u001b[43m)\u001b[49m)\n",
      "\u001b[1;31mValueError\u001b[0m: complex() arg is a malformed string"
     ]
    }
   ],
   "source": [
    "st=\"1a23\"\n",
    "print(complex(st))"
   ]
  },
  {
   "cell_type": "code",
   "execution_count": 28,
   "metadata": {},
   "outputs": [
    {
     "name": "stdout",
     "output_type": "stream",
     "text": [
      "(123.3+0j)\n"
     ]
    }
   ],
   "source": [
    "st1=\"123.3\"\n",
    "print(complex(st1))"
   ]
  },
  {
   "cell_type": "code",
   "execution_count": 29,
   "metadata": {},
   "outputs": [
    {
     "name": "stdout",
     "output_type": "stream",
     "text": [
      "(12+3j)\n"
     ]
    }
   ],
   "source": [
    "print(complex(\"12+3j\"))"
   ]
  },
  {
   "cell_type": "code",
   "execution_count": 31,
   "metadata": {},
   "outputs": [
    {
     "name": "stdout",
     "output_type": "stream",
     "text": [
      "True\n",
      "False\n"
     ]
    }
   ],
   "source": [
    "st=\"s\"\n",
    "print(bool(st))\n",
    "s=\"\"\n",
    "print(bool(s))"
   ]
  },
  {
   "cell_type": "code",
   "execution_count": 35,
   "metadata": {},
   "outputs": [
    {
     "name": "stdout",
     "output_type": "stream",
     "text": [
      "['r', 'a', 'm', 'u']\n",
      "r\n",
      "a\n"
     ]
    }
   ],
   "source": [
    "#string --> list\n",
    "st=\"ramu\"\n",
    "print(list(st))\n",
    "print(list(st)[0][0])\n",
    "print(list(st)[1][0])"
   ]
  },
  {
   "cell_type": "code",
   "execution_count": 36,
   "metadata": {},
   "outputs": [
    {
     "name": "stdout",
     "output_type": "stream",
     "text": [
      "('r', 'a', 'j', 'u')\n"
     ]
    }
   ],
   "source": [
    "#string to tuple\n",
    "st=\"raju\"\n",
    "print(tuple(st))"
   ]
  },
  {
   "cell_type": "code",
   "execution_count": 37,
   "metadata": {},
   "outputs": [
    {
     "name": "stdout",
     "output_type": "stream",
     "text": [
      "{'a', 'r', 'j'}\n"
     ]
    }
   ],
   "source": [
    "#string to set\n",
    "st=\"raaajja\"\n",
    "print(set(st))"
   ]
  },
  {
   "cell_type": "markdown",
   "metadata": {},
   "source": [
    "converting Set into other data types:\n",
    "----------------------------------------\n",
    "Set can be converted into str,tuple,list,dict,bool\n",
    "\n",
    "Set cannnot be converted into int,float,commplex"
   ]
  },
  {
   "cell_type": "code",
   "execution_count": 46,
   "metadata": {},
   "outputs": [
    {
     "name": "stdout",
     "output_type": "stream",
     "text": [
      "{1, 2, 3}\n",
      "[1, 2, 3]\n",
      "(1, 2, 3)\n",
      "True\n"
     ]
    },
    {
     "ename": "TypeError",
     "evalue": "cannot convert dictionary update sequence element #0 to a sequence",
     "output_type": "error",
     "traceback": [
      "\u001b[1;31m---------------------------------------------------------------------------\u001b[0m",
      "\u001b[1;31mTypeError\u001b[0m                                 Traceback (most recent call last)",
      "Cell \u001b[1;32mIn[46], line 6\u001b[0m\n\u001b[0;32m      4\u001b[0m \u001b[38;5;28mprint\u001b[39m(\u001b[38;5;28mtuple\u001b[39m(a))\n\u001b[0;32m      5\u001b[0m \u001b[38;5;28mprint\u001b[39m(\u001b[38;5;28mbool\u001b[39m(a))\n\u001b[1;32m----> 6\u001b[0m \u001b[38;5;28mprint\u001b[39m(\u001b[38;5;28;43mdict\u001b[39;49m\u001b[43m(\u001b[49m\u001b[43ma\u001b[49m\u001b[43m)\u001b[49m)\n",
      "\u001b[1;31mTypeError\u001b[0m: cannot convert dictionary update sequence element #0 to a sequence"
     ]
    }
   ],
   "source": [
    "a={1,2,3,1}\n",
    "print(str(a))\n",
    "print(list(a))\n",
    "print(tuple(a))\n",
    "print(bool(a))\n",
    "print(dict(a))"
   ]
  },
  {
   "cell_type": "code",
   "execution_count": 47,
   "metadata": {},
   "outputs": [
    {
     "name": "stdout",
     "output_type": "stream",
     "text": [
      "{'age': 21, 'name': 'raju'}\n"
     ]
    }
   ],
   "source": [
    "l={(\"name\",\"raju\"),(\"age\",21)}\n",
    "\n",
    "print(dict(l))"
   ]
  },
  {
   "cell_type": "code",
   "execution_count": 52,
   "metadata": {},
   "outputs": [
    {
     "name": "stdout",
     "output_type": "stream",
     "text": [
      "{'name': 'kashi', 'age': 26, 'phno': 9123123123}\n",
      "['name', 'age', 'phno']\n",
      "('name', 'age', 'phno')\n",
      "{'name', 'phno', 'age'}\n"
     ]
    }
   ],
   "source": [
    "d={'name':\"kashi\",'age':26,'phno':9123123123}\n",
    "\n",
    "print(str(d))\n",
    "print(list(d))\n",
    "print(tuple(d))\n",
    "print(set(d))"
   ]
  }
 ],
 "metadata": {
  "kernelspec": {
   "display_name": "Python 3",
   "language": "python",
   "name": "python3"
  },
  "language_info": {
   "codemirror_mode": {
    "name": "ipython",
    "version": 3
   },
   "file_extension": ".py",
   "mimetype": "text/x-python",
   "name": "python",
   "nbconvert_exporter": "python",
   "pygments_lexer": "ipython3",
   "version": "3.12.1"
  }
 },
 "nbformat": 4,
 "nbformat_minor": 2
}
